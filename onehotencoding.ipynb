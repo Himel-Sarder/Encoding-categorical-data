{
 "cells": [
  {
   "cell_type": "code",
   "execution_count": 5,
   "metadata": {
    "_cell_guid": "b1076dfc-b9ad-4769-8c92-a6c4dae69d19",
    "_uuid": "8f2839f25d086af736a60e9eeb907d3b93b6e0e5"
   },
   "outputs": [],
   "source": [
    "# This Python 3 environment comes with many helpful analytics libraries installed\n",
    "# It is defined by the kaggle/python Docker image: https://github.com/kaggle/docker-python\n",
    "# For example, here's several helpful packages to load\n",
    "\n",
    "import numpy as np # linear algebra\n",
    "import pandas as pd # data processing, CSV file I/O (e.g. pd.read_csv)\n",
    "\n",
    "# Input data files are available in the read-only \"../input/\" directory\n",
    "# For example, running this (by clicking run or pressing Shift+Enter) will list all files under the input directory\n",
    "\n",
    "import os\n",
    "for dirname, _, filenames in os.walk('/kaggle/input'):\n",
    "    for filename in filenames:\n",
    "        print(os.path.join(dirname, filename))\n",
    "\n",
    "# You can write up to 20GB to the current directory (/kaggle/working/) that gets preserved as output when you create a version using \"Save & Run All\" \n",
    "# You can also write temporary files to /kaggle/temp/, but they won't be saved outside of the current session"
   ]
  },
  {
   "cell_type": "code",
   "execution_count": 6,
   "metadata": {},
   "outputs": [],
   "source": [
    "df = pd.read_csv('cars.csv') "
   ]
  },
  {
   "cell_type": "code",
   "execution_count": 7,
   "metadata": {},
   "outputs": [
    {
     "data": {
      "text/html": [
       "<div>\n",
       "<style scoped>\n",
       "    .dataframe tbody tr th:only-of-type {\n",
       "        vertical-align: middle;\n",
       "    }\n",
       "\n",
       "    .dataframe tbody tr th {\n",
       "        vertical-align: top;\n",
       "    }\n",
       "\n",
       "    .dataframe thead th {\n",
       "        text-align: right;\n",
       "    }\n",
       "</style>\n",
       "<table border=\"1\" class=\"dataframe\">\n",
       "  <thead>\n",
       "    <tr style=\"text-align: right;\">\n",
       "      <th></th>\n",
       "      <th>brand</th>\n",
       "      <th>km_driven</th>\n",
       "      <th>fuel</th>\n",
       "      <th>owner</th>\n",
       "      <th>selling_price</th>\n",
       "    </tr>\n",
       "  </thead>\n",
       "  <tbody>\n",
       "    <tr>\n",
       "      <th>0</th>\n",
       "      <td>Maruti</td>\n",
       "      <td>145500</td>\n",
       "      <td>Diesel</td>\n",
       "      <td>First Owner</td>\n",
       "      <td>450000</td>\n",
       "    </tr>\n",
       "    <tr>\n",
       "      <th>1</th>\n",
       "      <td>Skoda</td>\n",
       "      <td>120000</td>\n",
       "      <td>Diesel</td>\n",
       "      <td>Second Owner</td>\n",
       "      <td>370000</td>\n",
       "    </tr>\n",
       "    <tr>\n",
       "      <th>2</th>\n",
       "      <td>Honda</td>\n",
       "      <td>140000</td>\n",
       "      <td>Petrol</td>\n",
       "      <td>Third Owner</td>\n",
       "      <td>158000</td>\n",
       "    </tr>\n",
       "    <tr>\n",
       "      <th>3</th>\n",
       "      <td>Hyundai</td>\n",
       "      <td>127000</td>\n",
       "      <td>Diesel</td>\n",
       "      <td>First Owner</td>\n",
       "      <td>225000</td>\n",
       "    </tr>\n",
       "    <tr>\n",
       "      <th>4</th>\n",
       "      <td>Maruti</td>\n",
       "      <td>120000</td>\n",
       "      <td>Petrol</td>\n",
       "      <td>First Owner</td>\n",
       "      <td>130000</td>\n",
       "    </tr>\n",
       "  </tbody>\n",
       "</table>\n",
       "</div>"
      ],
      "text/plain": [
       "     brand  km_driven    fuel         owner  selling_price\n",
       "0   Maruti     145500  Diesel   First Owner         450000\n",
       "1    Skoda     120000  Diesel  Second Owner         370000\n",
       "2    Honda     140000  Petrol   Third Owner         158000\n",
       "3  Hyundai     127000  Diesel   First Owner         225000\n",
       "4   Maruti     120000  Petrol   First Owner         130000"
      ]
     },
     "execution_count": 7,
     "metadata": {},
     "output_type": "execute_result"
    }
   ],
   "source": [
    "df.head()"
   ]
  },
  {
   "cell_type": "markdown",
   "metadata": {},
   "source": [
    "## Checking for unique values"
   ]
  },
  {
   "cell_type": "code",
   "execution_count": null,
   "metadata": {
    "execution": {
     "iopub.execute_input": "2023-10-04T06:08:26.726346Z",
     "iopub.status.busy": "2023-10-04T06:08:26.725972Z",
     "iopub.status.idle": "2023-10-04T06:08:26.73886Z",
     "shell.execute_reply": "2023-10-04T06:08:26.736917Z",
     "shell.execute_reply.started": "2023-10-04T06:08:26.726314Z"
    }
   },
   "outputs": [],
   "source": [
    "df['brand'].nunique()"
   ]
  },
  {
   "cell_type": "code",
   "execution_count": null,
   "metadata": {
    "execution": {
     "iopub.execute_input": "2023-10-04T06:08:26.742815Z",
     "iopub.status.busy": "2023-10-04T06:08:26.741642Z",
     "iopub.status.idle": "2023-10-04T06:08:26.758331Z",
     "shell.execute_reply": "2023-10-04T06:08:26.756961Z",
     "shell.execute_reply.started": "2023-10-04T06:08:26.742741Z"
    }
   },
   "outputs": [],
   "source": [
    "df['brand'].value_counts()"
   ]
  },
  {
   "cell_type": "code",
   "execution_count": null,
   "metadata": {
    "execution": {
     "iopub.execute_input": "2023-10-04T06:08:26.760976Z",
     "iopub.status.busy": "2023-10-04T06:08:26.759817Z",
     "iopub.status.idle": "2023-10-04T06:08:26.771487Z",
     "shell.execute_reply": "2023-10-04T06:08:26.770621Z",
     "shell.execute_reply.started": "2023-10-04T06:08:26.760922Z"
    }
   },
   "outputs": [],
   "source": [
    "df['fuel'].nunique()"
   ]
  },
  {
   "cell_type": "code",
   "execution_count": null,
   "metadata": {
    "execution": {
     "iopub.execute_input": "2023-10-04T06:08:26.773001Z",
     "iopub.status.busy": "2023-10-04T06:08:26.77256Z",
     "iopub.status.idle": "2023-10-04T06:08:26.787883Z",
     "shell.execute_reply": "2023-10-04T06:08:26.786705Z",
     "shell.execute_reply.started": "2023-10-04T06:08:26.772976Z"
    }
   },
   "outputs": [],
   "source": [
    "df['fuel'].value_counts()"
   ]
  },
  {
   "cell_type": "code",
   "execution_count": null,
   "metadata": {
    "execution": {
     "iopub.execute_input": "2023-10-04T06:08:26.78969Z",
     "iopub.status.busy": "2023-10-04T06:08:26.78933Z",
     "iopub.status.idle": "2023-10-04T06:08:26.804032Z",
     "shell.execute_reply": "2023-10-04T06:08:26.802097Z",
     "shell.execute_reply.started": "2023-10-04T06:08:26.789662Z"
    }
   },
   "outputs": [],
   "source": [
    "df['owner'].nunique()"
   ]
  },
  {
   "cell_type": "code",
   "execution_count": null,
   "metadata": {
    "execution": {
     "iopub.execute_input": "2023-10-04T06:08:26.806689Z",
     "iopub.status.busy": "2023-10-04T06:08:26.805931Z",
     "iopub.status.idle": "2023-10-04T06:08:26.818024Z",
     "shell.execute_reply": "2023-10-04T06:08:26.816893Z",
     "shell.execute_reply.started": "2023-10-04T06:08:26.806654Z"
    }
   },
   "outputs": [],
   "source": [
    "df['owner'].value_counts()"
   ]
  },
  {
   "cell_type": "markdown",
   "metadata": {},
   "source": [
    "## OneHotEncoding\n",
    "\n",
    "One-hot encoding is a technique used in data preprocessing and feature engineering. It's employed to convert categorical variables into a binary matrix, where each category becomes a binary column and is represented by either a 1 or 0. This is done to make the data suitable for machine learning algorithms that require numerical inputs, as well as to prevent any ordinal relationship assumptions between categories.\n",
    "\n",
    "![OneHotEncoding](https://miro.medium.com/max/1400/1*ggtP4a5YaRx6l09KQaYOnw.png)\n"
   ]
  },
  {
   "cell_type": "markdown",
   "metadata": {},
   "source": [
    "## 1. OneHotEncoding using Pandas"
   ]
  },
  {
   "cell_type": "code",
   "execution_count": null,
   "metadata": {
    "execution": {
     "iopub.execute_input": "2023-10-04T06:08:26.824031Z",
     "iopub.status.busy": "2023-10-04T06:08:26.822929Z",
     "iopub.status.idle": "2023-10-04T06:08:26.858857Z",
     "shell.execute_reply": "2023-10-04T06:08:26.857259Z",
     "shell.execute_reply.started": "2023-10-04T06:08:26.8237Z"
    }
   },
   "outputs": [],
   "source": [
    "pd.get_dummies(df,columns=['fuel','owner'])"
   ]
  },
  {
   "cell_type": "markdown",
   "metadata": {},
   "source": [
    "## 2. K-1 OneHotEncoding\n",
    "\n",
    "* The reason for using K-1 encoding instead of K encoding columns is to avoid the \"dummy variable trap.\" The dummy variable trap is a situation where the inclusion of all K columns introduces perfect multicollinearity into the dataset, which can negatively impact the performance of models like linear regression. Perfect multicollinearity occurs when two or more independent variables are highly correlated, making it difficult for the model to distinguish their individual effects on the target variable."
   ]
  },
  {
   "cell_type": "code",
   "execution_count": null,
   "metadata": {
    "execution": {
     "iopub.execute_input": "2023-10-04T06:08:26.861508Z",
     "iopub.status.busy": "2023-10-04T06:08:26.86058Z",
     "iopub.status.idle": "2023-10-04T06:08:26.882876Z",
     "shell.execute_reply": "2023-10-04T06:08:26.881403Z",
     "shell.execute_reply.started": "2023-10-04T06:08:26.861459Z"
    }
   },
   "outputs": [],
   "source": [
    "pd.get_dummies(df,columns=['fuel','owner'],drop_first=True)"
   ]
  },
  {
   "cell_type": "markdown",
   "metadata": {},
   "source": [
    "* while doing machine learning projects we cannot implement pandas onehot encoding because pandas does not remember that which column is at which position,so we cannot implement this on machine learning project. "
   ]
  },
  {
   "cell_type": "markdown",
   "metadata": {},
   "source": [
    "## 3. OneHotEncoding using Sklearn"
   ]
  },
  {
   "cell_type": "code",
   "execution_count": null,
   "metadata": {
    "execution": {
     "iopub.execute_input": "2023-10-04T06:08:26.884633Z",
     "iopub.status.busy": "2023-10-04T06:08:26.88421Z",
     "iopub.status.idle": "2023-10-04T06:08:27.617311Z",
     "shell.execute_reply": "2023-10-04T06:08:27.616219Z",
     "shell.execute_reply.started": "2023-10-04T06:08:26.884593Z"
    }
   },
   "outputs": [],
   "source": [
    "from sklearn.model_selection import train_test_split\n",
    "X_train, X_test, y_train, y_test = train_test_split(df.iloc[:,0:4],df.iloc[:,-1],test_size=0.2,random_state=True)"
   ]
  },
  {
   "cell_type": "code",
   "execution_count": null,
   "metadata": {
    "execution": {
     "iopub.execute_input": "2023-10-04T06:08:27.618785Z",
     "iopub.status.busy": "2023-10-04T06:08:27.618478Z",
     "iopub.status.idle": "2023-10-04T06:08:27.633745Z",
     "shell.execute_reply": "2023-10-04T06:08:27.632506Z",
     "shell.execute_reply.started": "2023-10-04T06:08:27.618759Z"
    }
   },
   "outputs": [],
   "source": [
    "X_train.head()"
   ]
  },
  {
   "cell_type": "code",
   "execution_count": null,
   "metadata": {
    "execution": {
     "iopub.execute_input": "2023-10-04T06:08:27.635958Z",
     "iopub.status.busy": "2023-10-04T06:08:27.635003Z",
     "iopub.status.idle": "2023-10-04T06:08:27.648373Z",
     "shell.execute_reply": "2023-10-04T06:08:27.647216Z",
     "shell.execute_reply.started": "2023-10-04T06:08:27.635898Z"
    }
   },
   "outputs": [],
   "source": [
    "from sklearn.preprocessing import OneHotEncoder"
   ]
  },
  {
   "cell_type": "code",
   "execution_count": null,
   "metadata": {
    "execution": {
     "iopub.execute_input": "2023-10-04T06:08:27.651819Z",
     "iopub.status.busy": "2023-10-04T06:08:27.650293Z",
     "iopub.status.idle": "2023-10-04T06:08:27.663677Z",
     "shell.execute_reply": "2023-10-04T06:08:27.662535Z",
     "shell.execute_reply.started": "2023-10-04T06:08:27.65176Z"
    }
   },
   "outputs": [],
   "source": [
    "ohe = OneHotEncoder(drop='first',sparse=False)"
   ]
  },
  {
   "cell_type": "code",
   "execution_count": null,
   "metadata": {
    "execution": {
     "iopub.execute_input": "2023-10-04T06:08:27.665685Z",
     "iopub.status.busy": "2023-10-04T06:08:27.664694Z",
     "iopub.status.idle": "2023-10-04T06:08:27.693417Z",
     "shell.execute_reply": "2023-10-04T06:08:27.691651Z",
     "shell.execute_reply.started": "2023-10-04T06:08:27.665645Z"
    }
   },
   "outputs": [],
   "source": [
    "X_train_new = ohe.fit_transform(X_train[['fuel','owner']])"
   ]
  },
  {
   "cell_type": "code",
   "execution_count": null,
   "metadata": {
    "execution": {
     "iopub.execute_input": "2023-10-04T06:08:27.695783Z",
     "iopub.status.busy": "2023-10-04T06:08:27.695298Z",
     "iopub.status.idle": "2023-10-04T06:08:27.707041Z",
     "shell.execute_reply": "2023-10-04T06:08:27.70558Z",
     "shell.execute_reply.started": "2023-10-04T06:08:27.695744Z"
    }
   },
   "outputs": [],
   "source": [
    "X_test_new = ohe.transform(X_test[['fuel','owner']])"
   ]
  },
  {
   "cell_type": "code",
   "execution_count": null,
   "metadata": {
    "execution": {
     "iopub.execute_input": "2023-10-04T06:08:27.71041Z",
     "iopub.status.busy": "2023-10-04T06:08:27.709892Z",
     "iopub.status.idle": "2023-10-04T06:08:27.724356Z",
     "shell.execute_reply": "2023-10-04T06:08:27.722717Z",
     "shell.execute_reply.started": "2023-10-04T06:08:27.710349Z"
    }
   },
   "outputs": [],
   "source": [
    "X_train_new.shape"
   ]
  },
  {
   "cell_type": "code",
   "execution_count": null,
   "metadata": {
    "execution": {
     "iopub.execute_input": "2023-10-04T06:08:27.728674Z",
     "iopub.status.busy": "2023-10-04T06:08:27.727732Z",
     "iopub.status.idle": "2023-10-04T06:08:27.747293Z",
     "shell.execute_reply": "2023-10-04T06:08:27.745211Z",
     "shell.execute_reply.started": "2023-10-04T06:08:27.728626Z"
    }
   },
   "outputs": [],
   "source": [
    "X_train[['brand','km_driven']].values"
   ]
  },
  {
   "cell_type": "markdown",
   "metadata": {},
   "source": [
    "Now, X_train_new and X_train[['brand','km_driven']].values both are numpy array and we have add them horizontally "
   ]
  },
  {
   "cell_type": "code",
   "execution_count": null,
   "metadata": {
    "execution": {
     "iopub.execute_input": "2023-10-04T06:08:27.749473Z",
     "iopub.status.busy": "2023-10-04T06:08:27.74892Z",
     "iopub.status.idle": "2023-10-04T06:08:27.767144Z",
     "shell.execute_reply": "2023-10-04T06:08:27.765868Z",
     "shell.execute_reply.started": "2023-10-04T06:08:27.749396Z"
    }
   },
   "outputs": [],
   "source": [
    "np.hstack((X_train[['brand','km_driven']].values,X_train_new))"
   ]
  },
  {
   "cell_type": "code",
   "execution_count": null,
   "metadata": {
    "execution": {
     "iopub.execute_input": "2023-10-04T06:08:27.769028Z",
     "iopub.status.busy": "2023-10-04T06:08:27.768619Z",
     "iopub.status.idle": "2023-10-04T06:08:27.781945Z",
     "shell.execute_reply": "2023-10-04T06:08:27.780715Z",
     "shell.execute_reply.started": "2023-10-04T06:08:27.768991Z"
    }
   },
   "outputs": [],
   "source": [
    "np.hstack((X_train[['brand','km_driven']].values,X_train_new)).shape"
   ]
  },
  {
   "cell_type": "markdown",
   "metadata": {},
   "source": [
    "## 4. OneHotEncoding with Top Categories"
   ]
  },
  {
   "cell_type": "code",
   "execution_count": null,
   "metadata": {
    "execution": {
     "iopub.execute_input": "2023-10-04T06:08:27.784505Z",
     "iopub.status.busy": "2023-10-04T06:08:27.784009Z",
     "iopub.status.idle": "2023-10-04T06:08:27.793816Z",
     "shell.execute_reply": "2023-10-04T06:08:27.792312Z",
     "shell.execute_reply.started": "2023-10-04T06:08:27.78446Z"
    }
   },
   "outputs": [],
   "source": [
    "counts = df['brand'].value_counts()"
   ]
  },
  {
   "cell_type": "code",
   "execution_count": null,
   "metadata": {
    "execution": {
     "iopub.execute_input": "2023-10-04T06:08:27.796623Z",
     "iopub.status.busy": "2023-10-04T06:08:27.795425Z",
     "iopub.status.idle": "2023-10-04T06:08:27.807147Z",
     "shell.execute_reply": "2023-10-04T06:08:27.806196Z",
     "shell.execute_reply.started": "2023-10-04T06:08:27.796572Z"
    }
   },
   "outputs": [],
   "source": [
    "df['brand'].nunique()\n",
    "threshold = 100"
   ]
  },
  {
   "cell_type": "code",
   "execution_count": null,
   "metadata": {
    "execution": {
     "iopub.execute_input": "2023-10-04T06:08:27.809145Z",
     "iopub.status.busy": "2023-10-04T06:08:27.808581Z",
     "iopub.status.idle": "2023-10-04T06:08:27.82011Z",
     "shell.execute_reply": "2023-10-04T06:08:27.819073Z",
     "shell.execute_reply.started": "2023-10-04T06:08:27.809113Z"
    }
   },
   "outputs": [],
   "source": [
    "repl = counts[counts <= threshold].index"
   ]
  },
  {
   "cell_type": "code",
   "execution_count": null,
   "metadata": {
    "execution": {
     "iopub.execute_input": "2023-10-04T06:08:27.822489Z",
     "iopub.status.busy": "2023-10-04T06:08:27.822059Z",
     "iopub.status.idle": "2023-10-04T06:08:27.857111Z",
     "shell.execute_reply": "2023-10-04T06:08:27.855956Z",
     "shell.execute_reply.started": "2023-10-04T06:08:27.822419Z"
    }
   },
   "outputs": [],
   "source": [
    "pd.get_dummies(df['brand'].replace(repl,'uncommon'))"
   ]
  },
  {
   "cell_type": "code",
   "execution_count": null,
   "metadata": {},
   "outputs": [],
   "source": []
  }
 ],
 "metadata": {
  "kaggle": {
   "accelerator": "none",
   "dataSources": [
    {
     "datasetId": 2285298,
     "sourceId": 3839606,
     "sourceType": "datasetVersion"
    }
   ],
   "dockerImageVersionId": 30527,
   "isGpuEnabled": false,
   "isInternetEnabled": true,
   "language": "python",
   "sourceType": "notebook"
  },
  "kernelspec": {
   "display_name": "Python 3 (ipykernel)",
   "language": "python",
   "name": "python3"
  },
  "language_info": {
   "codemirror_mode": {
    "name": "ipython",
    "version": 3
   },
   "file_extension": ".py",
   "mimetype": "text/x-python",
   "name": "python",
   "nbconvert_exporter": "python",
   "pygments_lexer": "ipython3",
   "version": "3.12.4"
  }
 },
 "nbformat": 4,
 "nbformat_minor": 4
}
